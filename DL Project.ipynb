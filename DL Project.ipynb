{
 "cells": [
  {
   "cell_type": "markdown",
   "metadata": {},
   "source": [
    "# 1. Imports & Config"
   ]
  },
  {
   "cell_type": "code",
   "execution_count": 1,
   "metadata": {},
   "outputs": [],
   "source": [
    "import os\n",
    "import numpy as np\n",
    "import matplotlib.pyplot as plt\n",
    "import pandas as pd\n",
    "from numpy import ndarray\n",
    "from matplotlib.pyplot import subplots, show\n",
    "from sklearn.model_selection import train_test_split\n",
    "\n",
    "# model building imports\n",
    "import keras\n",
    "from keras import Model, Sequential, Input\n",
    "from keras.layers import Conv2D, MaxPooling2D, Flatten, Dense\n",
    "from keras.layers import LeakyReLU\n",
    "from keras.ops import add\n",
    "from keras.utils import to_categorical\n",
    "from keras.optimizers import SGD\n",
    "from keras.losses import CategoricalCrossentropy\n",
    "from keras.metrics import CategoricalAccuracy, AUC, F1Score\n",
    "from keras.callbacks import ModelCheckpoint, CSVLogger, LearningRateScheduler ,ReduceLROnPlateau, EarlyStopping\n",
    "from keras.utils import to_categorical\n",
    "\n",
    "import keras_tuner\n",
    "# augmentation operations\n",
    "from keras.layers import RandomBrightness, RandomFlip, RandomRotation\n",
    "from keras.layers import Pipeline\n",
    "from keras.layers import BatchNormalization\n",
    "from keras.layers import Dropout"
   ]
  },
  {
   "cell_type": "code",
   "execution_count": 2,
   "metadata": {},
   "outputs": [
    {
     "name": "stdout",
     "output_type": "stream",
     "text": [
      "Available GPUs: []\n"
     ]
    }
   ],
   "source": [
    "import tensorflow as tf\n",
    "\n",
    "# List all physical GPUs\n",
    "gpus = tf.config.list_physical_devices('GPU')\n",
    "print(\"Available GPUs:\", gpus)\n"
   ]
  },
  {
   "cell_type": "code",
   "execution_count": 3,
   "metadata": {},
   "outputs": [
    {
     "name": "stdout",
     "output_type": "stream",
     "text": [
      "num gpus: 0\n"
     ]
    }
   ],
   "source": [
    "print('num gpus:', len(tf.config.list_physical_devices('GPU')))"
   ]
  },
  {
   "cell_type": "code",
   "execution_count": 6,
   "metadata": {},
   "outputs": [
    {
     "data": {
      "text/html": [
       "<div>\n",
       "<style scoped>\n",
       "    .dataframe tbody tr th:only-of-type {\n",
       "        vertical-align: middle;\n",
       "    }\n",
       "\n",
       "    .dataframe tbody tr th {\n",
       "        vertical-align: top;\n",
       "    }\n",
       "\n",
       "    .dataframe thead th {\n",
       "        text-align: right;\n",
       "    }\n",
       "</style>\n",
       "<table border=\"1\" class=\"dataframe\">\n",
       "  <thead>\n",
       "    <tr style=\"text-align: right;\">\n",
       "      <th></th>\n",
       "      <th>rare_species_id</th>\n",
       "      <th>eol_content_id</th>\n",
       "      <th>eol_page_id</th>\n",
       "      <th>kingdom</th>\n",
       "      <th>phylum</th>\n",
       "      <th>family</th>\n",
       "      <th>file_path</th>\n",
       "    </tr>\n",
       "  </thead>\n",
       "  <tbody>\n",
       "    <tr>\n",
       "      <th>6229</th>\n",
       "      <td>7449a525-55e0-46d2-8023-37869ad554ca</td>\n",
       "      <td>20206310</td>\n",
       "      <td>46561068</td>\n",
       "      <td>animalia</td>\n",
       "      <td>chordata</td>\n",
       "      <td>urolophidae</td>\n",
       "      <td>chordata_urolophidae/20206310_46561068_eol-ful...</td>\n",
       "    </tr>\n",
       "    <tr>\n",
       "      <th>3968</th>\n",
       "      <td>d8307832-301f-48fa-b962-90b8943bff65</td>\n",
       "      <td>22517379</td>\n",
       "      <td>46578204</td>\n",
       "      <td>animalia</td>\n",
       "      <td>chordata</td>\n",
       "      <td>chaetodontidae</td>\n",
       "      <td>chordata_chaetodontidae/22517379_46578204_eol-...</td>\n",
       "    </tr>\n",
       "    <tr>\n",
       "      <th>3952</th>\n",
       "      <td>656f2355-1d18-4e6f-9040-fa241e5a28e8</td>\n",
       "      <td>20312745</td>\n",
       "      <td>323914</td>\n",
       "      <td>animalia</td>\n",
       "      <td>chordata</td>\n",
       "      <td>atelidae</td>\n",
       "      <td>chordata_atelidae/20312745_323914_eol-full-siz...</td>\n",
       "    </tr>\n",
       "    <tr>\n",
       "      <th>8888</th>\n",
       "      <td>2493e2df-3c2c-4af1-9afd-510635e314c0</td>\n",
       "      <td>29574828</td>\n",
       "      <td>45511296</td>\n",
       "      <td>animalia</td>\n",
       "      <td>chordata</td>\n",
       "      <td>procellariidae</td>\n",
       "      <td>chordata_procellariidae/29574828_45511296_eol-...</td>\n",
       "    </tr>\n",
       "    <tr>\n",
       "      <th>560</th>\n",
       "      <td>03be01cb-b50f-483a-a736-91ffcb78a0f8</td>\n",
       "      <td>28911621</td>\n",
       "      <td>7250886</td>\n",
       "      <td>animalia</td>\n",
       "      <td>chordata</td>\n",
       "      <td>indriidae</td>\n",
       "      <td>chordata_indriidae/28911621_7250886_eol-full-s...</td>\n",
       "    </tr>\n",
       "  </tbody>\n",
       "</table>\n",
       "</div>"
      ],
      "text/plain": [
       "                           rare_species_id  eol_content_id  eol_page_id  \\\n",
       "6229  7449a525-55e0-46d2-8023-37869ad554ca        20206310     46561068   \n",
       "3968  d8307832-301f-48fa-b962-90b8943bff65        22517379     46578204   \n",
       "3952  656f2355-1d18-4e6f-9040-fa241e5a28e8        20312745       323914   \n",
       "8888  2493e2df-3c2c-4af1-9afd-510635e314c0        29574828     45511296   \n",
       "560   03be01cb-b50f-483a-a736-91ffcb78a0f8        28911621      7250886   \n",
       "\n",
       "       kingdom    phylum          family  \\\n",
       "6229  animalia  chordata     urolophidae   \n",
       "3968  animalia  chordata  chaetodontidae   \n",
       "3952  animalia  chordata        atelidae   \n",
       "8888  animalia  chordata  procellariidae   \n",
       "560   animalia  chordata       indriidae   \n",
       "\n",
       "                                              file_path  \n",
       "6229  chordata_urolophidae/20206310_46561068_eol-ful...  \n",
       "3968  chordata_chaetodontidae/22517379_46578204_eol-...  \n",
       "3952  chordata_atelidae/20312745_323914_eol-full-siz...  \n",
       "8888  chordata_procellariidae/29574828_45511296_eol-...  \n",
       "560   chordata_indriidae/28911621_7250886_eol-full-s...  "
      ]
     },
     "execution_count": 6,
     "metadata": {},
     "output_type": "execute_result"
    }
   ],
   "source": [
    "# importing the dataset\n",
    "metadata = pd.read_csv('../Data/rare_species/metadata.csv')\n",
    "metadata.sample(5)"
   ]
  },
  {
   "cell_type": "code",
   "execution_count": 7,
   "metadata": {},
   "outputs": [],
   "source": [
    "# applying the filepath\n",
    "metadata['file_path'] = metadata['file_path'].apply(lambda x: os.path.join('../Data/rare_species', x))"
   ]
  },
  {
   "cell_type": "code",
   "execution_count": 8,
   "metadata": {},
   "outputs": [
    {
     "data": {
      "text/html": [
       "<div>\n",
       "<style scoped>\n",
       "    .dataframe tbody tr th:only-of-type {\n",
       "        vertical-align: middle;\n",
       "    }\n",
       "\n",
       "    .dataframe tbody tr th {\n",
       "        vertical-align: top;\n",
       "    }\n",
       "\n",
       "    .dataframe thead th {\n",
       "        text-align: right;\n",
       "    }\n",
       "</style>\n",
       "<table border=\"1\" class=\"dataframe\">\n",
       "  <thead>\n",
       "    <tr style=\"text-align: right;\">\n",
       "      <th></th>\n",
       "      <th>rare_species_id</th>\n",
       "      <th>eol_content_id</th>\n",
       "      <th>eol_page_id</th>\n",
       "      <th>kingdom</th>\n",
       "      <th>phylum</th>\n",
       "      <th>family</th>\n",
       "      <th>file_path</th>\n",
       "    </tr>\n",
       "  </thead>\n",
       "  <tbody>\n",
       "    <tr>\n",
       "      <th>1547</th>\n",
       "      <td>e81271c9-3ef5-4d99-bf26-06d67accb98a</td>\n",
       "      <td>29468942</td>\n",
       "      <td>795274</td>\n",
       "      <td>animalia</td>\n",
       "      <td>chordata</td>\n",
       "      <td>crocodylidae</td>\n",
       "      <td>../Data/rare_species\\chordata_crocodylidae/294...</td>\n",
       "    </tr>\n",
       "    <tr>\n",
       "      <th>10231</th>\n",
       "      <td>fb576395-add5-464d-97f6-7bebabb21cba</td>\n",
       "      <td>28221223</td>\n",
       "      <td>45276460</td>\n",
       "      <td>animalia</td>\n",
       "      <td>cnidaria</td>\n",
       "      <td>agariciidae</td>\n",
       "      <td>../Data/rare_species\\cnidaria_agariciidae/2822...</td>\n",
       "    </tr>\n",
       "    <tr>\n",
       "      <th>79</th>\n",
       "      <td>b380aba7-71ef-4931-93db-a9b8d2676bb6</td>\n",
       "      <td>20944394</td>\n",
       "      <td>1065125</td>\n",
       "      <td>animalia</td>\n",
       "      <td>chordata</td>\n",
       "      <td>anatidae</td>\n",
       "      <td>../Data/rare_species\\chordata_anatidae/2094439...</td>\n",
       "    </tr>\n",
       "    <tr>\n",
       "      <th>8698</th>\n",
       "      <td>c0225de8-3a63-4a54-9eae-4fc927c62219</td>\n",
       "      <td>29467981</td>\n",
       "      <td>46579618</td>\n",
       "      <td>animalia</td>\n",
       "      <td>chordata</td>\n",
       "      <td>serranidae</td>\n",
       "      <td>../Data/rare_species\\chordata_serranidae/29467...</td>\n",
       "    </tr>\n",
       "    <tr>\n",
       "      <th>2363</th>\n",
       "      <td>4f08814d-ecff-4629-ba8e-7e542512dafa</td>\n",
       "      <td>29856165</td>\n",
       "      <td>485420</td>\n",
       "      <td>animalia</td>\n",
       "      <td>arthropoda</td>\n",
       "      <td>formicidae</td>\n",
       "      <td>../Data/rare_species\\arthropoda_formicidae/298...</td>\n",
       "    </tr>\n",
       "  </tbody>\n",
       "</table>\n",
       "</div>"
      ],
      "text/plain": [
       "                            rare_species_id  eol_content_id  eol_page_id  \\\n",
       "1547   e81271c9-3ef5-4d99-bf26-06d67accb98a        29468942       795274   \n",
       "10231  fb576395-add5-464d-97f6-7bebabb21cba        28221223     45276460   \n",
       "79     b380aba7-71ef-4931-93db-a9b8d2676bb6        20944394      1065125   \n",
       "8698   c0225de8-3a63-4a54-9eae-4fc927c62219        29467981     46579618   \n",
       "2363   4f08814d-ecff-4629-ba8e-7e542512dafa        29856165       485420   \n",
       "\n",
       "        kingdom      phylum        family  \\\n",
       "1547   animalia    chordata  crocodylidae   \n",
       "10231  animalia    cnidaria   agariciidae   \n",
       "79     animalia    chordata      anatidae   \n",
       "8698   animalia    chordata    serranidae   \n",
       "2363   animalia  arthropoda    formicidae   \n",
       "\n",
       "                                               file_path  \n",
       "1547   ../Data/rare_species\\chordata_crocodylidae/294...  \n",
       "10231  ../Data/rare_species\\cnidaria_agariciidae/2822...  \n",
       "79     ../Data/rare_species\\chordata_anatidae/2094439...  \n",
       "8698   ../Data/rare_species\\chordata_serranidae/29467...  \n",
       "2363   ../Data/rare_species\\arthropoda_formicidae/298...  "
      ]
     },
     "execution_count": 8,
     "metadata": {},
     "output_type": "execute_result"
    }
   ],
   "source": [
    "metadata.sample(5)"
   ]
  },
  {
   "cell_type": "markdown",
   "metadata": {},
   "source": [
    "# 2.  Preprocessing"
   ]
  },
  {
   "cell_type": "code",
   "execution_count": 9,
   "metadata": {},
   "outputs": [
    {
     "data": {
      "text/plain": [
       "array(['mollusca', 'chordata', 'arthropoda', 'echinodermata', 'cnidaria'],\n",
       "      dtype=object)"
      ]
     },
     "execution_count": 9,
     "metadata": {},
     "output_type": "execute_result"
    }
   ],
   "source": [
    "metadata.phylum.unique()"
   ]
  },
  {
   "cell_type": "code",
   "execution_count": 10,
   "metadata": {},
   "outputs": [
    {
     "name": "stdout",
     "output_type": "stream",
     "text": [
      "family\n",
      "dactyloidae        300\n",
      "cercopithecidae    300\n",
      "formicidae         291\n",
      "carcharhinidae     270\n",
      "salamandridae      270\n",
      "                  ... \n",
      "cyprinodontidae     30\n",
      "alligatoridae       30\n",
      "balaenidae          30\n",
      "goodeidae           30\n",
      "siluridae           29\n",
      "Name: count, Length: 202, dtype: int64\n"
     ]
    }
   ],
   "source": [
    "print(metadata['family'].value_counts())"
   ]
  },
  {
   "cell_type": "code",
   "execution_count": 15,
   "metadata": {},
   "outputs": [
    {
     "data": {
      "text/plain": [
       "202"
      ]
     },
     "execution_count": 15,
     "metadata": {},
     "output_type": "execute_result"
    }
   ],
   "source": [
    "num_classes = metadata['family'].nunique()\n",
    "num_classes"
   ]
  },
  {
   "cell_type": "markdown",
   "metadata": {},
   "source": [
    "our dataset is inbalaced and has a length of 202 classes"
   ]
  },
  {
   "cell_type": "code",
   "execution_count": 11,
   "metadata": {},
   "outputs": [],
   "source": [
    "# Transforming our target and feature into a int\n",
    "metadata['target'] = metadata['family'].astype('category').cat.codes\n",
    "metadata['feat'] = metadata['phylum'].astype('category').cat.codes"
   ]
  },
  {
   "cell_type": "code",
   "execution_count": 14,
   "metadata": {},
   "outputs": [
    {
     "data": {
      "text/plain": [
       "7895      75\n",
       "1435       4\n",
       "6346      60\n",
       "3627     122\n",
       "11824     66\n",
       "8034     104\n",
       "11592      1\n",
       "6971       3\n",
       "3068     167\n",
       "3516      10\n",
       "Name: target, dtype: int16"
      ]
     },
     "execution_count": 14,
     "metadata": {},
     "output_type": "execute_result"
    }
   ],
   "source": [
    "metadata['target'].sample(10)"
   ]
  },
  {
   "cell_type": "markdown",
   "metadata": {},
   "source": [
    "### Spliting the data"
   ]
  },
  {
   "cell_type": "code",
   "execution_count": 19,
   "metadata": {},
   "outputs": [],
   "source": [
    "# SSpliting the data while keeping the same distribuition of classes(target) - 70%/20%/10%\n",
    "\n",
    "train, temp = train_test_split(metadata, test_size=0.3,stratify=metadata['target'],random_state=1)\n",
    "\n",
    "val, test = train_test_split(temp,test_size=1/3,stratify=temp['target'],random_state=1)"
   ]
  },
  {
   "cell_type": "code",
   "execution_count": 20,
   "metadata": {},
   "outputs": [
    {
     "data": {
      "text/plain": [
       "((8388, 9), (2396, 9), (1199, 9))"
      ]
     },
     "execution_count": 20,
     "metadata": {},
     "output_type": "execute_result"
    }
   ],
   "source": [
    "train.shape , val.shape , test.shape"
   ]
  },
  {
   "cell_type": "markdown",
   "metadata": {},
   "source": [
    "Loading the images"
   ]
  },
  {
   "cell_type": "code",
   "execution_count": null,
   "metadata": {},
   "outputs": [],
   "source": [
    "def load_image(df, path='file_path', label='target', image_size=(256, 256)):\n",
    "    X = []\n",
    "    y = []\n",
    "\n",
    "    for _, row in df.iterrows():\n",
    "        image = keras.utils.load_img(row[path], target_size=image_size)\n",
    "        input_arr = keras.utils.img_to_array(image) / 255.0  # Normalize\n",
    "        X.append(input_arr)\n",
    "        y.append(row[label])\n",
    "    \n",
    "    return np.array(X), np.array(y)"
   ]
  },
  {
   "cell_type": "code",
   "execution_count": null,
   "metadata": {},
   "outputs": [],
   "source": [
    "X_train , y_train = load_image(train)\n",
    "X_val , y_val = load_image(val)\n",
    "X_test , y_test = load_image(test)"
   ]
  },
  {
   "cell_type": "code",
   "execution_count": null,
   "metadata": {},
   "outputs": [],
   "source": [
    "X_train.shape, y_train.shape, X_val.shape, y_val.shape, X_test.shape, y_test.shape"
   ]
  },
  {
   "cell_type": "code",
   "execution_count": null,
   "metadata": {},
   "outputs": [],
   "source": [
    "y_train = to_categorical(y_train, num_classes=num_classes)\n",
    "y_val = to_categorical(y_val, num_classes=num_classes)\n",
    "y_test = to_categorical(y_test, num_classes=num_classes)"
   ]
  },
  {
   "cell_type": "code",
   "execution_count": null,
   "metadata": {},
   "outputs": [],
   "source": [
    "X_train.shape, y_train.shape, X_val.shape, y_val.shape, X_test.shape, y_test.shape"
   ]
  },
  {
   "cell_type": "markdown",
   "metadata": {},
   "source": [
    "# 3. Models"
   ]
  },
  {
   "cell_type": "code",
   "execution_count": null,
   "metadata": {},
   "outputs": [],
   "source": [
    "augmentation_layer = Sequential(\n",
    "    [\n",
    "        RandomBrightness(factor=0.2, value_range=(0.0, 1.0)),\n",
    "        RandomFlip(),\n",
    "        RandomRotation(factor=0.2, fill_mode=\"reflect\")\n",
    "    ], \n",
    "    name=\"augmentation_layer\")\n"
   ]
  },
  {
   "cell_type": "code",
   "execution_count": null,
   "metadata": {},
   "outputs": [],
   "source": [
    "lr_reduction = ReduceLROnPlateau(monitor='val_loss', factor=0.5, patience=5, min_lr=0, verbose = 1)"
   ]
  },
  {
   "cell_type": "code",
   "execution_count": null,
   "metadata": {},
   "outputs": [],
   "source": [
    "early_stop = EarlyStopping(monitor='val_loss', mode='min', verbose=1, patience=20, restore_best_weights = True)"
   ]
  },
  {
   "cell_type": "code",
   "execution_count": null,
   "metadata": {},
   "outputs": [],
   "source": [
    "optimizer = SGD(learning_rate=0.01, name=\"optimizer\")\n",
    "loss = CategoricalCrossentropy(name=\"loss\")\n",
    "\n",
    "# metrics\n",
    "categorical_accuracy = CategoricalAccuracy(name=\"accuracy\")\n",
    "f1_score = F1Score(average=\"macro\", name=\"f1_score\")\n",
    "metrics = [categorical_accuracy]"
   ]
  },
  {
   "cell_type": "code",
   "execution_count": null,
   "metadata": {},
   "outputs": [],
   "source": [
    "input_shape = (256,256,3)\n",
    "\n",
    "epochs = 200\n",
    "batch_size = 32"
   ]
  },
  {
   "cell_type": "markdown",
   "metadata": {},
   "source": [
    "## Model 1"
   ]
  },
  {
   "cell_type": "code",
   "execution_count": null,
   "metadata": {},
   "outputs": [],
   "source": [
    "def build_transfg_like(input_shape=input_shape, num_classes=num_classes):\n",
    "    model = Sequential([\n",
    "        Input(shape=input_shape),\n",
    "        Conv2D(32, (3, 3), activation=\"relu\", padding=\"same\"),\n",
    "        MaxPooling2D((2, 2)),\n",
    "\n",
    "        Conv2D(64, (3, 3), activation=\"relu\", padding=\"same\"),\n",
    "        MaxPooling2D((2, 2)),\n",
    "        \n",
    "        Conv2D(128, (3, 3), activation=\"relu\", padding=\"same\"),\n",
    "        MaxPooling2D((2, 2)),\n",
    "        \n",
    "        Flatten(),\n",
    "        \n",
    "        Dense(256, activation=\"relu\"),\n",
    "        Dropout(0.5),\n",
    "        \n",
    "        Dense(num_classes, activation=\"softmax\")\n",
    "    ], \n",
    "        name=\"TransFG_CNN\")\n",
    "    \n",
    "    return model.summary()"
   ]
  },
  {
   "cell_type": "code",
   "execution_count": null,
   "metadata": {},
   "outputs": [],
   "source": [
    "model_1 = build_transfg_like()\n",
    "\n",
    "model_1.compile(loss=loss, optimizer=optimizer, metrics=metrics)"
   ]
  },
  {
   "cell_type": "code",
   "execution_count": null,
   "metadata": {},
   "outputs": [],
   "source": [
    "# train the model\n",
    "_1 = model_1.fit(\n",
    "    X_train,\n",
    "    y_train,\n",
    "    batch_size=batch_size,\n",
    "    epochs=epochs,\n",
    "    validation_data=(X_val, y_val),\n",
    "    callbacks= [lr_reduction , early_stop]\n",
    ")"
   ]
  },
  {
   "cell_type": "code",
   "execution_count": null,
   "metadata": {},
   "outputs": [],
   "source": [
    "plt.figure(figsize=(14, 5))\n",
    "\n",
    "# Plot loss\n",
    "plt.plot(_1._1['loss'], label='Train Loss')\n",
    "plt.plot(_1._1['val_loss'], label='Val Loss')\n",
    "plt.title('Loss over Epochs')\n",
    "plt.xlabel('Epochs')\n",
    "plt.ylabel('Loss')\n",
    "plt.legend()\n",
    "plt.grid(True)\n",
    "\n",
    "plt.show()"
   ]
  },
  {
   "cell_type": "code",
   "execution_count": null,
   "metadata": {},
   "outputs": [],
   "source": [
    "plt.figure(figsize=(14, 5))\n",
    "\n",
    "# Plot accuracy\n",
    "plt.plot(_1._1['accuracy'], label='Train Accuracy')\n",
    "plt.plot(_1._1['val_accuracy'], label='Val Accuracy')\n",
    "plt.title('Accuracy over Epochs')\n",
    "plt.xlabel('Epochs')\n",
    "plt.ylabel('Accuracy')\n",
    "plt.legend()\n",
    "plt.grid(True)\n",
    "\n",
    "plt.show()"
   ]
  },
  {
   "cell_type": "markdown",
   "metadata": {},
   "source": [
    "## Model 2"
   ]
  },
  {
   "cell_type": "code",
   "execution_count": null,
   "metadata": {},
   "outputs": [],
   "source": [
    "def build_ffvt(input_shape=input_shape, num_classes=num_classes):\n",
    "    model = Sequential([\n",
    "        Input(shape=input_shape),\n",
    "        Conv2D(32, (3, 3), padding=\"same\", activation=\"relu\"),\n",
    "        MaxPooling2D((2, 2)),\n",
    "        Conv2D(64, (3, 3), padding=\"same\", activation=\"relu\"),\n",
    "        MaxPooling2D((2, 2)),\n",
    "        Conv2D(128, (3, 3), padding=\"same\", activation=\"relu\"),\n",
    "        MaxPooling2D((2, 2)),\n",
    "        Conv2D(256, (3, 3), padding=\"same\", activation=\"relu\"),  # extra layer to simulate fusion\n",
    "        MaxPooling2D((2, 2)),\n",
    "        Flatten(),\n",
    "        Dense(256, activation=\"relu\"),\n",
    "        Dense(num_classes, activation=\"softmax\"),\n",
    "    ], \n",
    "        name=\"FFVT_Sequential\")\n",
    "    \n",
    "    return model.summary()"
   ]
  },
  {
   "cell_type": "code",
   "execution_count": null,
   "metadata": {},
   "outputs": [],
   "source": [
    "model_2 = build_ffvt()\n",
    "\n",
    "model_2.compile(loss=loss, optimizer=optimizer, metrics=metrics)"
   ]
  },
  {
   "cell_type": "code",
   "execution_count": null,
   "metadata": {},
   "outputs": [],
   "source": [
    "# train the model\n",
    "_2 = model_2.fit(\n",
    "    X_train,\n",
    "    y_train,\n",
    "    batch_size=batch_size,\n",
    "    epochs=epochs,\n",
    "    validation_data=(X_val, y_val),\n",
    "    callbacks= [lr_reduction , early_stop]\n",
    ")"
   ]
  },
  {
   "cell_type": "code",
   "execution_count": null,
   "metadata": {},
   "outputs": [],
   "source": [
    "plt.figure(figsize=(14, 5))\n",
    "\n",
    "# Plot loss\n",
    "plt.plot(_2._2['loss'], label='Train Loss')\n",
    "plt.plot(_2._2['val_loss'], label='Val Loss')\n",
    "plt.title('Loss over Epochs')\n",
    "plt.xlabel('Epochs')\n",
    "plt.ylabel('Loss')\n",
    "plt.legend()\n",
    "plt.grid(True)\n",
    "\n",
    "plt.show()"
   ]
  },
  {
   "cell_type": "code",
   "execution_count": null,
   "metadata": {},
   "outputs": [],
   "source": [
    "plt.figure(figsize=(14, 5))\n",
    "\n",
    "# Plot accuracy\n",
    "plt.plot(_2._2['accuracy'], label='Train Accuracy')\n",
    "plt.plot(_2._2['val_accuracy'], label='Val Accuracy')\n",
    "plt.title('Accuracy over Epochs')\n",
    "plt.xlabel('Epochs')\n",
    "plt.ylabel('Accuracy')\n",
    "plt.legend()\n",
    "plt.grid(True)\n",
    "\n",
    "plt.show()"
   ]
  },
  {
   "cell_type": "markdown",
   "metadata": {},
   "source": [
    "## Model 3"
   ]
  },
  {
   "cell_type": "code",
   "execution_count": null,
   "metadata": {},
   "outputs": [],
   "source": [
    "def build_smvit(input_shape=input_shape, num_classes=num_classes):\n",
    "    model = Sequential([\n",
    "        Input(shape=input_shape),\n",
    "        Dropout(0.2),  \n",
    "        \n",
    "        Conv2D(32, (3, 3), padding=\"same\", activation=\"relu\"),\n",
    "        MaxPooling2D((2, 2)),\n",
    "        Conv2D(64, (3, 3), padding=\"same\", activation=\"relu\"),\n",
    "        \n",
    "        MaxPooling2D((2, 2)),\n",
    "        Dropout(0.3),\n",
    "        \n",
    "        Conv2D(128, (3, 3), padding=\"same\", activation=\"relu\"),\n",
    "        MaxPooling2D((2, 2)),\n",
    "        \n",
    "        Flatten(),\n",
    "        \n",
    "        Dense(128, activation=\"relu\"),\n",
    "        \n",
    "        Dense(num_classes, activation=\"softmax\"),\n",
    "    ],\n",
    "        name=\"SMViT_Sequential\")\n",
    "    \n",
    "    return model.summary()"
   ]
  },
  {
   "cell_type": "code",
   "execution_count": null,
   "metadata": {},
   "outputs": [],
   "source": [
    "model_3 = build_smvit()\n",
    "\n",
    "model_3.compile(loss=loss, optimizer=optimizer, metrics=metrics)"
   ]
  },
  {
   "cell_type": "code",
   "execution_count": null,
   "metadata": {},
   "outputs": [],
   "source": [
    "# train the model\n",
    "_3 = model_3.fit(\n",
    "    X_train,\n",
    "    y_train,\n",
    "    batch_size=batch_size,\n",
    "    epochs=epochs,\n",
    "    validation_data=(X_val, y_val),\n",
    "    callbacks= [lr_reduction , early_stop]\n",
    ")"
   ]
  },
  {
   "cell_type": "code",
   "execution_count": null,
   "metadata": {},
   "outputs": [],
   "source": [
    "plt.figure(figsize=(14, 5))\n",
    "\n",
    "# Plot loss\n",
    "plt.plot(_3._3['loss'], label='Train Loss')\n",
    "plt.plot(_3._3['val_loss'], label='Val Loss')\n",
    "plt.title('Loss over Epochs')\n",
    "plt.xlabel('Epochs')\n",
    "plt.ylabel('Loss')\n",
    "plt.legend()\n",
    "plt.grid(True)\n",
    "\n",
    "plt.show()"
   ]
  },
  {
   "cell_type": "code",
   "execution_count": null,
   "metadata": {},
   "outputs": [],
   "source": [
    "plt.figure(figsize=(14, 5))\n",
    "\n",
    "# Plot accuracy\n",
    "plt.plot(_3._3['accuracy'], label='Train Accuracy')\n",
    "plt.plot(_3._3['val_accuracy'], label='Val Accuracy')\n",
    "plt.title('Accuracy over Epochs')\n",
    "plt.xlabel('Epochs')\n",
    "plt.ylabel('Accuracy')\n",
    "plt.legend()\n",
    "plt.grid(True)\n",
    "\n",
    "plt.show()"
   ]
  }
 ],
 "metadata": {
  "kernelspec": {
   "display_name": "DeepLearning2425",
   "language": "python",
   "name": "python3"
  },
  "language_info": {
   "codemirror_mode": {
    "name": "ipython",
    "version": 3
   },
   "file_extension": ".py",
   "mimetype": "text/x-python",
   "name": "python",
   "nbconvert_exporter": "python",
   "pygments_lexer": "ipython3",
   "version": "3.12.9"
  }
 },
 "nbformat": 4,
 "nbformat_minor": 2
}
